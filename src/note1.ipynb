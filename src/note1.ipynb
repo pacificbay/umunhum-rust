{
 "cells": [
  {
   "cell_type": "code",
   "execution_count": 2,
   "metadata": {
    "pycharm": {
     "name": "#%%\n"
    }
   },
   "outputs": [],
   "source": [
    ":dep umunhum = { path = '/home/casey/ws-bitcoin-rust/umunhum' }\n",
    "use umunhum::IntMod;\n",
    "use umunhum::Pow;"
   ]
  },
  {
   "cell_type": "code",
   "execution_count": 3,
   "metadata": {
    "pycharm": {
     "name": "#%%\n"
    }
   },
   "outputs": [
    {
     "name": "stdout",
     "output_type": "stream",
     "text": [
      "false\n",
      "true\n"
     ]
    }
   ],
   "source": [
    "let a = IntMod::new(7, 13);\n",
    "let b = IntMod::new(6, 13);\n",
    "println!(\"{}\", a == b);\n",
    "println!(\"{}\", a == a);"
   ]
  },
  {
   "cell_type": "code",
   "execution_count": 4,
   "metadata": {
    "pycharm": {
     "name": "#%%\n"
    }
   },
   "outputs": [],
   "source": [
    "let a = IntMod::new(2, 31);\n",
    "let b = IntMod::new(2, 31);\n",
    "let c = IntMod::new(15, 31);\n",
    "assert_eq!(a, b);\n",
    "assert_ne!(a, c);"
   ]
  },
  {
   "cell_type": "code",
   "execution_count": 5,
   "metadata": {
    "pycharm": {
     "name": "#%%\n"
    }
   },
   "outputs": [
    {
     "name": "stdout",
     "output_type": "stream",
     "text": [
      "1\n",
      "-1\n"
     ]
    }
   ],
   "source": [
    "println!(\"{}\", 7 % 3);\n",
    "println!(\"{}\", -27 % 13);"
   ]
  },
  {
   "cell_type": "code",
   "execution_count": 6,
   "metadata": {
    "pycharm": {
     "name": "#%%\n"
    }
   },
   "outputs": [
    {
     "name": "stdout",
     "output_type": "stream",
     "text": [
      "integer_20_mod_57\n",
      "integer_37_mod_57\n",
      "integer_51_mod_57\n",
      "integer_41_mod_57\n"
     ]
    }
   ],
   "source": [
    "println!(\"{}\", IntMod::new(44, 57) + IntMod::new(33, 57));\n",
    "println!(\"{}\", IntMod::new(9, 57) - IntMod::new(29, 57));\n",
    "println!(\"{}\", IntMod::new(17, 57) + IntMod::new(42, 57) + IntMod::new(49, 57));\n",
    "println!(\"{}\", IntMod::new(52, 57) - IntMod::new(30, 57) - IntMod::new(38, 57));"
   ]
  },
  {
   "cell_type": "code",
   "execution_count": 7,
   "metadata": {
    "pycharm": {
     "name": "#%%\n"
    }
   },
   "outputs": [],
   "source": [
    "let a = IntMod::new(29, 31);\n",
    "let b = IntMod::new(4, 31);\n",
    "assert_eq!(a - b, IntMod::new(25, 31));\n",
    "let a = IntMod::new(15, 31);\n",
    "let b = IntMod::new(30, 31);\n",
    "assert_eq!(a - b, IntMod::new(16, 31));\n"
   ]
  },
  {
   "cell_type": "code",
   "execution_count": 8,
   "metadata": {
    "pycharm": {
     "name": "#%%\n"
    }
   },
   "outputs": [
    {
     "name": "stdout",
     "output_type": "stream",
     "text": [
      "integer_23_mod_97\n",
      "integer_68_mod_97\n",
      "integer_63_mod_97\n"
     ]
    }
   ],
   "source": [
    "let a = IntMod::new(95, 97);\n",
    "let b = IntMod::new(45, 97);\n",
    "let c = IntMod::new(31, 97);\n",
    "println!(\"{}\", a * b * c);\n",
    "\n",
    "let a = IntMod::new(17, 97);\n",
    "let b = IntMod::new(13, 97);\n",
    "let c = IntMod::new(19, 97);\n",
    "let d = IntMod::new(44, 97);\n",
    "println!(\"{}\", a * b * c * d);\n",
    "\n",
    "let a = IntMod::new(12, 97);\n",
    "let b = IntMod::new(77, 97);\n",
    "println!(\"{}\", a.pow(7) * b.pow(49));"
   ]
  },
  {
   "cell_type": "code",
   "execution_count": 9,
   "metadata": {
    "pycharm": {
     "name": "#%%\n"
    }
   },
   "outputs": [
    {
     "name": "stdout",
     "output_type": "stream",
     "text": [
      "[0, 1, 2, 3, 4, 5, 6, 7, 8, 9, 10, 11, 12, 13, 14, 15, 16, 17, 18]\n",
      "[0, 1, 2, 3, 4, 5, 6, 7, 8, 9, 10, 11, 12, 13, 14, 15, 16, 17, 18]\n",
      "[0, 1, 2, 3, 4, 5, 6, 7, 8, 9, 10, 11, 12, 13, 14, 15, 16, 17, 18]\n",
      "[0, 1, 2, 3, 4, 5, 6, 7, 8, 9, 10, 11, 12, 13, 14, 15, 16, 17, 18]\n"
     ]
    }
   ],
   "source": [
    "use std::collections::HashSet;\n",
    "\n",
    "fn multiply_range(k : &u32) -> HashSet<u32> {\n",
    "    (0..19).into_iter().map(|i| k * i % 19).collect()\n",
    "}\n",
    "\n",
    "let v1: Vec<u32> = vec![1, 3, 7, 13, 18];\n",
    "let v2: Vec<HashSet<u32>> = v1.iter().map(|k| multiply_range(k)).collect();\n",
    "\n",
    "for set in v2 {\n",
    "    let mut v: Vec<u32> = set.into_iter().collect();\n",
    "    v.sort();\n",
    "    println!(\"{:?}\", v);\n",
    "};"
   ]
  },
  {
   "cell_type": "code",
   "execution_count": 10,
   "metadata": {
    "pycharm": {
     "name": "#%%\n"
    }
   },
   "outputs": [
    {
     "name": "stdout",
     "output_type": "stream",
     "text": [
      "[0, 1, 2, 3, 4, 5, 6, 7, 8, 9, 10, 11, 12, 13, 14, 15, 16, 17, 18]\n"
     ]
    },
    {
     "data": {
      "text/plain": [
       "true"
      ]
     },
     "execution_count": 10,
     "metadata": {},
     "output_type": "execute_result"
    }
   ],
   "source": [
    "let a = IntMod::new(3, 13);\n",
    "let b = IntMod::new(12, 13);\n",
    "let c = IntMod::new(10, 13);\n",
    "a*b==c"
   ]
  },
  {
   "cell_type": "code",
   "execution_count": 11,
   "metadata": {
    "pycharm": {
     "name": "#%%\n"
    }
   },
   "outputs": [],
   "source": [
    "let a = IntMod::new(24, 31);\n",
    "let b = IntMod::new(19, 31);\n",
    "assert_eq!(a * b, IntMod::new(22, 31));"
   ]
  },
  {
   "cell_type": "code",
   "execution_count": 12,
   "metadata": {
    "pycharm": {
     "name": "#%%\n"
    }
   },
   "outputs": [
    {
     "data": {
      "text/plain": [
       "true"
      ]
     },
     "execution_count": 12,
     "metadata": {},
     "output_type": "execute_result"
    }
   ],
   "source": [
    "let a = IntMod::new(3, 13);\n",
    "let b = IntMod::new(1, 13);\n",
    "a.pow(3)==b\n",
    "\n"
   ]
  },
  {
   "cell_type": "code",
   "execution_count": 22,
   "metadata": {},
   "outputs": [
    {
     "name": "stdout",
     "output_type": "stream",
     "text": [
      "{1}\n",
      "{1}\n",
      "{1}\n",
      "{1}\n"
     ]
    }
   ],
   "source": [
    "fn power_range(p : u32) -> HashSet<IntMod> {\n",
    "    (1u32..p).into_iter().map(|i| IntMod::new(i, p).pow(p as i64 - 1)).collect()\n",
    "}\n",
    "\n",
    "let v1: Vec<u32> = vec![7, 11, 17, 31];\n",
    "let v2: Vec<HashSet<IntMod>> = v1.iter().map(|k| power_range(*k)).collect();\n",
    "\n",
    "for set in v2 {\n",
    "    let mut v: HashSet<u32> = set.into_iter().map(|int_mod| int_mod.n).collect();\n",
    "    println!(\"{:?}\", v);\n",
    "};"
   ]
  },
  {
   "cell_type": "code",
   "execution_count": 23,
   "metadata": {},
   "outputs": [
    {
     "data": {
      "text/plain": [
       "IntMod { n: 3, prime: 31 }"
      ]
     },
     "execution_count": 23,
     "metadata": {},
     "output_type": "execute_result"
    }
   ],
   "source": [
    "IntMod::new(3, 31)/IntMod::new(24, 31)\n"
   ]
  },
  {
   "cell_type": "code",
   "execution_count": 24,
   "metadata": {},
   "outputs": [
    {
     "data": {
      "text/plain": [
       "IntMod { n: 4, prime: 31 }"
      ]
     },
     "execution_count": 24,
     "metadata": {},
     "output_type": "execute_result"
    }
   ],
   "source": [
    "IntMod::new(3, 31)/IntMod::new(24, 31)"
   ]
  },
  {
   "cell_type": "code",
   "execution_count": 25,
   "metadata": {},
   "outputs": [
    {
     "data": {
      "text/plain": [
       "IntMod { n: 15, prime: 31 }"
      ]
     },
     "execution_count": 25,
     "metadata": {},
     "output_type": "execute_result"
    }
   ],
   "source": [
    "IntMod::new(17, 31).pow(3)"
   ]
  },
  {
   "cell_type": "code",
   "execution_count": 27,
   "metadata": {},
   "outputs": [
    {
     "data": {
      "text/plain": [
       "IntMod { n: 29, prime: 31 }"
      ]
     },
     "execution_count": 27,
     "metadata": {},
     "output_type": "execute_result"
    }
   ],
   "source": [
    "IntMod::new(17, 31).pow(-3)"
   ]
  },
  {
   "cell_type": "code",
   "execution_count": 28,
   "metadata": {},
   "outputs": [
    {
     "data": {
      "text/plain": [
       "IntMod { n: 13, prime: 31 }"
      ]
     },
     "execution_count": 28,
     "metadata": {},
     "output_type": "execute_result"
    }
   ],
   "source": [
    "(IntMod::new(4, 31).pow(-4))*IntMod::new(11, 31)"
   ]
  },
  {
   "cell_type": "code",
   "execution_count": 34,
   "metadata": {},
   "outputs": [],
   "source": [
    "let a = IntMod::new(3, 31);\n",
    "let b = IntMod::new(24, 31);\n",
    "assert_eq!(a / b, IntMod::new(4, 31));\n",
    "let a = IntMod::new(17, 31);\n",
    "assert_eq!(a.pow(-3), IntMod::new(29, 31));\n",
    "let a = IntMod::new(4, 31);\n",
    "let b = IntMod::new(11, 31);\n",
    "assert_eq!(a.pow(-4) * b, IntMod::new(13, 31));"
   ]
  },
  {
   "cell_type": "code",
   "execution_count": 37,
   "metadata": {},
   "outputs": [
    {
     "data": {
      "text/plain": [
       "true"
      ]
     },
     "execution_count": 37,
     "metadata": {},
     "output_type": "execute_result"
    }
   ],
   "source": [
    "let a = IntMod::new(7, 13);\n",
    "let b = IntMod::new(8, 13);\n",
    "a.pow(-3)==b"
   ]
  },
  {
   "cell_type": "code",
   "execution_count": null,
   "metadata": {},
   "outputs": [],
   "source": []
  }
 ],
 "metadata": {
  "kernelspec": {
   "display_name": "Rust",
   "language": "rust",
   "name": "rust"
  },
  "language_info": {
   "codemirror_mode": "rust",
   "file_extension": ".rs",
   "mimetype": "text/rust",
   "name": "Rust",
   "pygment_lexer": "rust",
   "version": ""
  },
  "pycharm": {
   "stem_cell": {
    "cell_type": "raw",
    "metadata": {
     "collapsed": false
    },
    "source": []
   }
  }
 },
 "nbformat": 4,
 "nbformat_minor": 1
}
